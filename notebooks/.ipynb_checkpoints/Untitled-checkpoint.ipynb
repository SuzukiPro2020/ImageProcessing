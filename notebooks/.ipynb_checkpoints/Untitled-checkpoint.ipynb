{
 "cells": [
  {
   "cell_type": "code",
   "execution_count": null,
   "metadata": {},
   "outputs": [],
   "source": [
    "%matplotlib inline\n",
    "\n",
    "import os\n",
    "import sys\n",
    "import cv2\n",
    "import matplotlib.pyplot as plt\n",
    "import matplotlib.patches as mpatches\n",
    "import numpy as np\n",
    "\n",
    "ROOT = '..'\n",
    "sys.path.append(ROOT)\n",
    "\n",
    "# PoseDetectorクラスのインポート\n",
    "from pose_detector import PoseDetector\n",
    "\n",
    "# 画像の読み込み\n",
    "arch_name = 'posenet'\n",
    "image_path = os.path.join(ROOT, 'data', 'person.png') #dataファイルの画像へのパス\n",
    "weight_path = os.path.join(ROOT, 'models', 'coco_posenet.npz') #modelsファイルのnpzファイルへのパス\n",
    "\n",
    "model = PoseDetector(arch_name, weight_path)"
   ]
  }
 ],
 "metadata": {
  "kernelspec": {
   "display_name": "Python 3",
   "language": "python",
   "name": "python3"
  },
  "language_info": {
   "codemirror_mode": {
    "name": "ipython",
    "version": 3
   },
   "file_extension": ".py",
   "mimetype": "text/x-python",
   "name": "python",
   "nbconvert_exporter": "python",
   "pygments_lexer": "ipython3",
   "version": "3.7.6"
  }
 },
 "nbformat": 4,
 "nbformat_minor": 4
}
